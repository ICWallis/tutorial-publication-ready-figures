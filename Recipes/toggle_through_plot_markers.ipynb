{
 "cells": [
  {
   "attachments": {},
   "cell_type": "markdown",
   "metadata": {},
   "source": [
    "Matplotlib automatically toggles through colors, but the markers remain the same.\n",
    "\n",
    "Use this code to toggle through a markers to make the plot more readable. \n",
    "\n",
    "The trick here is that the \"zip\" method will iterate over elements in a string. "
   ]
  },
  {
   "cell_type": "code",
   "execution_count": 24,
   "metadata": {},
   "outputs": [
    {
     "name": "stdout",
     "output_type": "stream",
     "text": [
      "[16, 13, 17, 18, 26, 31]\n"
     ]
    }
   ],
   "source": [
    "# make some dummy data\n",
    "\n",
    "Ya = [5,2,6,7,15,20]\n",
    "\n",
    "Yb = []\n",
    "Yc = []\n",
    "Yd = []\n",
    "shifts = [3, 5, 11]\n",
    "lists = [Yb,Yc,Yd]\n",
    "\n",
    "for shift, lis in zip(shifts, lists):\n",
    "    for val in Ya:\n",
    "        new_val = val + shift\n",
    "        lis.append(new_val)\n",
    "\n",
    "print(Yd)"
   ]
  },
  {
   "cell_type": "code",
   "execution_count": 25,
   "metadata": {},
   "outputs": [
    {
     "data": {
      "image/png": "[encoded data removed]",
      "text/plain": [
       "<Figure size 432x288 with 1 Axes>"
      ]
     },
     "metadata": {
      "needs_background": "light"
     },
     "output_type": "display_data"
    }
   ],
   "source": [
    "import matplotlib.pyplot as plt\n",
    "\n",
    "data = [Ya,Yb,Yc,Yd]\n",
    "labels = 'abcd'\n",
    "markers = 'ox^+'\n",
    "\n",
    "# Zip is iterating over strings like it does for lists or arrays\n",
    "# Note that zip will stop the loop at the shortest number of elements\n",
    "# If your marker list is too short, not all of the data will plot.\n",
    "# Test this by deleting a value in the markers string above.\n",
    "# If you don't know how many markers you will need,\n",
    "# you can just make a string of markers that is \n",
    "# longer than you will need (e.g. 'ox.+'*9)\n",
    "\n",
    "for d, m, l in zip(data, markers, labels):\n",
    "    X = d\n",
    "    Y = range(1, len(X) + 1) \n",
    "    plt.scatter(X, Y, s=50, marker=m, label=l)\n",
    "    plt.legend()"
   ]
  },
  {
   "cell_type": "code",
   "execution_count": null,
   "metadata": {},
   "outputs": [],
   "source": []
  }
 ],
 "metadata": {
  "kernelspec": {
   "display_name": "base",
   "language": "python",
   "name": "python3"
  },
  "language_info": {
   "codemirror_mode": {
    "name": "ipython",
    "version": 3
   },
   "file_extension": ".py",
   "mimetype": "text/x-python",
   "name": "python",
   "nbconvert_exporter": "python",
   "pygments_lexer": "ipython3",
   "version": "3.8.8"
  },
  "orig_nbformat": 4,
  "vscode": {
   "interpreter": {
    "hash": "c268d92783217d0a189fd0f6bc72a35770f06191246a63de0fd4bf64fa0bf04a"
   }
  }
 },
 "nbformat": 4,
 "nbformat_minor": 2
}
