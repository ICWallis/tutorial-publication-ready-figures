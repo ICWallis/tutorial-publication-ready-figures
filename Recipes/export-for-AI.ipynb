{
 "cells": [
  {
   "cell_type": "code",
   "execution_count": null,
   "metadata": {},
   "outputs": [],
   "source": []
  },
  {
   "cell_type": "code",
   "execution_count": null,
   "metadata": {},
   "outputs": [],
   "source": [
    "def save_image(fig, savename, dpi=1200):\n",
    "    # Output text as editable PDF text objects instead of shapes\n",
    "    matplotlib.rcParams['pdf.fonttype'] = 42\n",
    "    \n",
    "    # Force PDF to respect zorder by supressing image compositing\n",
    "    matplotlib.rcParams['image.composite_image'] = False\n",
    "\n",
    "    # Remove all padding and margins\n",
    "    #plt.tight_layout()\n",
    "    #plt.subplots_adjust(top=1, bottom=0, right=1, left=0, hspace=1, wspace=1)\n",
    "    #plt.margins(1,1)\n",
    "    # If figure is cut-off by export, use the following kwarg to fit the export to the plot\n",
    "    #bbox_inches='tight' \n",
    "    # If using the above kwarg, you can add padding around the tight frame using the following kwarg\n",
    "    # pad_inches=0.1\n",
    "    #plt.gca().xaxis.set_major_locator(matplotlib.pyplot.NullLocator())\n",
    "    #plt.gca().yaxis.set_major_locator(matplotlib.pyplot.NullLocator())\n",
    "        \n",
    "    if savename.split('.')[-1] == 'pdf':\n",
    "        pp = pdf.PdfPages(savename, keep_empty=False)\n",
    "        pp.savefig(fig)\n",
    "        pp.close()\n",
    "    elif savename.split('.')[-1] == 'png':\n",
    "        plt.savefig(savename, format='png', dpi=dpi, pad_inches=0, transparent=True)\n",
    "    else:\n",
    "        print(\"Unrecognized file format, plot not saved!\")\n",
    "\n",
    "    plt.show()\n",
    "    plt.clf()\n",
    "    plt.close('all')"
   ]
  }
 ],
 "metadata": {
  "language_info": {
   "name": "python"
  },
  "orig_nbformat": 4
 },
 "nbformat": 4,
 "nbformat_minor": 2
}
