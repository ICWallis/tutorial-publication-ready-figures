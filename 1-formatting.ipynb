{
 "cells": [
  {
   "cell_type": "markdown",
   "metadata": {},
   "source": [
    "# Formatting Figures and Axis\n",
    "\n",
    "_Note that ; is used in this notebook to suppress text outputs and otherwise does not contribute to code functionality._"
   ]
  },
  {
   "cell_type": "code",
   "execution_count": null,
   "metadata": {},
   "outputs": [],
   "source": [
    "import matplotlib.pyplot as plt"
   ]
  },
  {
   "cell_type": "markdown",
   "metadata": {},
   "source": [
    "---\n",
    "# 1. Add Plot Basics\n",
    "\n",
    "All good plots have some key basics and in this section we will add them. \n",
    "\n",
    "- Add axis labels, title and a legend\n",
    "- Control the extent of the axis\n",
    "\n",
    "Arguments are the parameters that you pass into a function like ax.scatter():\n",
    "- Positional arguments are passed into a function using their position. In matplotlib x/y plots, the data you want to plot are positional arguments where the x is given first and the y second.\n",
    "- Keyword arguments (kwargs) come after the positional arguments in the matplotlib functions. These kwargs have the format \"name-of-the-argument = value-you-define\". In Matplotlib, these are optional and to control formatting and aesthetics. \n",
    "\n",
    "Reading the docs: \n",
    "\n",
    "- [scatter plot - ax.scatter](https://matplotlib.org/stable/api/_as_gen/matplotlib.axes.Axes.scatter.html)\n",
    "- [line plot - ax.plot](https://matplotlib.org/stable/api/_as_gen/matplotlib.axes.Axes.plot.html)"
   ]
  },
  {
   "cell_type": "code",
   "execution_count": null,
   "metadata": {},
   "outputs": [],
   "source": [
    "x = [5,7,9,11]\n",
    "y = [300, 301, 70, 11]\n",
    "\n",
    "fig, ax = plt.subplots(1,1,figsize=(6,3))\n",
    "\n",
    "ax.scatter(x, y, label='My data')\n",
    "\n",
    "# code along to add plot basics\n",
    "\n",
    "\n"
   ]
  },
  {
   "cell_type": "markdown",
   "metadata": {},
   "source": [
    "# 2. Shared Axis\n",
    "\n",
    "When creating multiple plots with the same data extent, the x or y axis can be shared"
   ]
  },
  {
   "cell_type": "code",
   "execution_count": null,
   "metadata": {},
   "outputs": [],
   "source": [
    "# Use kwarg \"sharex=True\" to share the x axis between stacked plots\n",
    "# Use kwarg \"sharey=True\" to share the y axis between side-by-side plots\n",
    "# This is a kwarg for plt.subplots(). Where do you think it goes?\n",
    "\n",
    "x = [5, 7, 9, 11]\n",
    "y = [300, 301, 70, 11]\n",
    "\n",
    "fig, (ax0, ax1) = plt.subplots(1,2,figsize=(6,3))\n",
    "\n",
    "ax0.scatter(x, y)\n",
    "ax1.scatter(x, y);"
   ]
  },
  {
   "cell_type": "markdown",
   "metadata": {},
   "source": [
    "# 3. Mathematical Symbols\n",
    "\n",
    "Latex is used to generate mathematical symbols in Matplotlib. [This website](https://www.overleaf.com/learn/latex/List_of_Greek_letters_and_math_symbols) is a good reference for mathematical symbols in LaTex. \n",
    "\n",
    "On Windows, you may need to include an r before the string containing a LaTex symbol or equation. For example:\n",
    "\n",
    "    r'my equation in LaTex is... $\\chi = \\alpha + 5$'\n",
    "\n",
    "This is typically not necessary on a Mac OS.\n",
    "\n",
    "[Mathpix snip](https://mathpix.com/) is a useful tool for generating Latex from an existing equation in a pdf, textbook, image, and so forth. It even (mostly) works on hand written equations. "
   ]
  },
  {
   "cell_type": "code",
   "execution_count": null,
   "metadata": {},
   "outputs": [],
   "source": [
    "# Examples of LaTex use in matplotlib plots\n",
    "\n",
    "x = [5, 7, 9, 11]\n",
    "y = [300, 301, 70, 11]\n",
    "\n",
    "fig, ax = plt.subplots(1,1,figsize=(4,3))\n",
    "\n",
    "ax.scatter(x, y, label=r'$\\Delta$T')\n",
    "\n",
    "ax.set_ylabel('Depth [m-VD]')\n",
    "\n",
    "ax.set_xlabel(r'Temperature [$^{\\circ}C$]')\n",
    "\n",
    "ax.set_title(r'The Options Are $\\infty$')\n",
    "\n",
    "ax.set_xlim(0,15)\n",
    "\n",
    "ax.set_ylim(350, 0)\n",
    "\n",
    "ax.legend(loc=2);"
   ]
  },
  {
   "cell_type": "markdown",
   "metadata": {},
   "source": [
    "# 4. Code Format Tip\n",
    "\n",
    "A \"for loop\" can be used to format multiple axis at the same time "
   ]
  },
  {
   "cell_type": "code",
   "execution_count": null,
   "metadata": {},
   "outputs": [],
   "source": [
    "x = [5, 7, 9, 11]\n",
    "y = [300, 301, 70, 11]\n",
    "\n",
    "fig, (ax0, ax1) = plt.subplots(1,2, figsize=(6,3), sharey=True)\n",
    "plt.tight_layout()\n",
    "\n",
    "ax0.scatter(x, y, label='This data')\n",
    "ax1.plot(x, y, label='That data')\n",
    "\n",
    "# Code along: Remove the repetition below by using a \"for loop\"\n",
    "\n",
    "ax0.set_ylabel('y label')\n",
    "\n",
    "ax0.set_xlabel('x label')\n",
    "ax1.set_xlabel('x label')\n",
    "\n",
    "ax0.set_xlim(0, 15)\n",
    "ax1.set_xlim(0, 15)\n",
    "\n",
    "ax0.set_ylim(350,0)\n",
    "ax1.set_ylim(350,0)\n",
    "\n",
    "ax0.legend()\n",
    "ax1.legend()\n",
    "\n",
    "ax0.set_title('Scatter Plot')\n",
    "ax1.set_title('Line Plot');"
   ]
  },
  {
   "cell_type": "markdown",
   "metadata": {},
   "source": [
    "---\n",
    "# 5 Control How Data Are Plotted\n",
    "\n",
    "Keyword arguments are used to control how data are plotted. \n",
    "\n",
    "It's useful to put each argument passed into the plotting function on a separate line so (a) the code can be read vertically and at a glance and (b) it enables you to comment out a single argument.\n",
    "\n",
    "Useful lists:\n",
    "- [Named colours](https://matplotlib.org/stable/gallery/color/named_colors.html)\n",
    "- [Line types](https://matplotlib.org/stable/gallery/lines_bars_and_markers/linestyles.html)\n",
    "- [Marker types](https://matplotlib.org/stable/api/markers_api.html)\n"
   ]
  },
  {
   "cell_type": "code",
   "execution_count": null,
   "metadata": {},
   "outputs": [],
   "source": [
    "x = [5, 7, 9, 11]\n",
    "y = [300, 301, 70, 11]\n",
    "\n",
    "fig, (ax0, ax1) = plt.subplots(1,2,figsize=(6,3),sharey=True)\n",
    "plt.tight_layout()\n",
    "\n",
    "# convert to vertical arrangement\n",
    "# add kwargs to change how the plotted data looks \n",
    "\n",
    "ax0.scatter(x, y, label='This data')\n",
    "\n",
    "# scatter plot kwargs to try\n",
    "# s=0.5 # size, float\n",
    "# c='k' # named colour, hex code, or numeric values (see advanced notebook)\n",
    "# alpha=0.5 # transparency, float between 0 and 1\n",
    "# marker='.' # see list of markers\n",
    "# and many more in the docs\n",
    "\n",
    "ax1.plot(x, y, label='That data')\n",
    "\n",
    "# line plot kwargs to try\n",
    "# linewidth=1.5 # float\n",
    "# color='k' # named colour or hex code\n",
    "# alpha=0.5 # transparency, float between 0 and 1\n",
    "# linestyle=':' # see list of line styles\n",
    "# marker='o' # adds a marker to data points, see list of markers\n",
    "# and many more in the docs\n",
    "\n",
    "for ax in [ax0, ax1]:\n",
    "    ax.set_xlabel('x label')\n",
    "    ax.set_xlim(0,15) \n",
    "    ax.set_ylim(350, 0)\n",
    "    ax.legend(loc=0)\n",
    "\n",
    "ax0.set_ylabel('y label')\n",
    "\n",
    "ax0.set_title('Scatter Plot')\n",
    "ax1.set_title('Line Plot');\n"
   ]
  },
  {
   "cell_type": "markdown",
   "metadata": {},
   "source": [
    "# 6. Colour: Tools and Tricks\n",
    "\n",
    "Things to consider when adding colour to a plot:\n",
    "- Does the addition of colour improve the plot?\n",
    "- Are the colours accessible to all?\n",
    "- Will the figure be understood if it is printed in black and white?\n",
    "\n",
    "Accessability:\n",
    "- Check out the [colour blindness simulator](https://www.color-blindness.com/coblis-color-blindness-simulator/) to understand how people are impacted by colour blindness\n",
    "- People have different abilities to distinguish colour, even if not colour blind\n",
    "- Contrast, text size, marker sizes and line weights should also be considered\n",
    "\n",
    "Tools that help generate colours and convert colour format (RGB, CMYK, Hex):\n",
    "- [Adobe colour wheel](https://color.adobe.com/create/color-wheel), which includes accessability tools for checking colour and contrast\n",
    "- [Color Hex](https://www.color-hex.com/)\n",
    "- [Color Brewer](https://colorbrewer2.org/), which includes a colour blindness check "
   ]
  },
  {
   "cell_type": "markdown",
   "metadata": {},
   "source": [
    "# 7. Log Axis and Grids"
   ]
  },
  {
   "cell_type": "code",
   "execution_count": null,
   "metadata": {},
   "outputs": [],
   "source": [
    "x = [5, 7, 9, 11]\n",
    "y = [300, 301, 70, 11]\n",
    "\n",
    "fig, (ax0, ax1) = plt.subplots(1,2,figsize=(6,3))\n",
    "plt.tight_layout()\n",
    "\n",
    "ax0.scatter(x, y, label='This data')\n",
    "ax1.plot(x, y, label='That data')\n",
    "\n",
    "for ax in [ax0, ax1]:\n",
    "    ax.set_xlabel('x label')\n",
    "    ax.set_xlim(0.1,15) \n",
    "    ax.set_ylim(350, 0.1)\n",
    "    ax.legend(loc=0)\n",
    "\n",
    "ax0.set_ylabel('y label')\n",
    "\n",
    "\n",
    "# basic grid\n",
    "#ax0.grid()\n",
    "\n",
    "\n",
    "# apply log scale to y axis\n",
    "#ax1.set_yscale('log')\n",
    "\n",
    "# minor and major grid and tick marks\n",
    "#ax1.minorticks_on()\n",
    "#ax1.grid(which='major',color='k',linewidth=0.5)\n",
    "#ax1.grid(which='minor', color='k', linestyle=':', linewidth=0.5)\n",
    "\n",
    "\n",
    "ax0.set_title('Scatter Plot')\n",
    "ax1.set_title('Line Plot');\n"
   ]
  },
  {
   "cell_type": "markdown",
   "metadata": {},
   "source": [
    "# 8. Plot Text\n",
    "\n",
    "Text can be added to a plot using ax.plot(). It has the same positional argument order as our scatter and line plots (x then y). \n",
    "\n",
    "For more info, refer to [the docs](https://matplotlib.org/stable/api/_as_gen/matplotlib.axes.Axes.text.html)."
   ]
  },
  {
   "cell_type": "code",
   "execution_count": null,
   "metadata": {},
   "outputs": [],
   "source": [
    "x = [5,7,9,11]\n",
    "y = [300, 301, 70, 11]\n",
    "\n",
    "fig, ax = plt.subplots(1,1,figsize=(6,3))\n",
    "\n",
    "ax.scatter(x, y, label='Some wonderful data')\n",
    "\n",
    "# add some text to the plot using ax.text()\n",
    "\n",
    "# text kwargs to try\n",
    "# alpha=0.5 # transparency, float\n",
    "# color='k' # # named colour or hex code\n",
    "# fontsize=10 # float\n",
    "# fontstyle='oblique' # 'normal', 'italic' or 'oblique'\n",
    "# fontweight='bold' # numeric 1-1000 or named values like 'book', 'medium' or 'bold'\n",
    "# and many more in the docs\n",
    "\n",
    "ax.set_ylabel('y label')\n",
    "ax.set_xlabel('x label')\n",
    "\n",
    "ax.set_title('A Plot I Made')\n",
    "\n",
    "ax.set_xlim(0,15)\n",
    "\n",
    "ax.set_ylim(350, 0)\n",
    "\n",
    "ax.legend(loc=0);\n"
   ]
  },
  {
   "cell_type": "markdown",
   "metadata": {},
   "source": [
    "# 9. Data Labels"
   ]
  },
  {
   "cell_type": "code",
   "execution_count": null,
   "metadata": {},
   "outputs": [],
   "source": [
    "x = [5,7,9,11]\n",
    "y = [300, 301, 70, 11]\n",
    "labels = ['A', 'B', 'C', 'D']\n",
    "\n",
    "fig, ax = plt.subplots(1,1,figsize=(6,3))\n",
    "\n",
    "ax.scatter(x, y, label='Some wonderful data')\n",
    "\n",
    "#for i, label in enumerate(labels):\n",
    "#    plt.annotate(label, (x[i], y[i]))\n",
    "\n",
    "ax.set_ylabel('y label')\n",
    "ax.set_xlabel('x label')\n",
    "\n",
    "ax.set_title('A Plot I Made')\n",
    "\n",
    "ax.set_xlim(0,15)\n",
    "\n",
    "ax.set_ylim(350, 0)\n",
    "\n",
    "ax.legend(loc=0);"
   ]
  },
  {
   "cell_type": "markdown",
   "metadata": {},
   "source": [
    "---\n",
    "Tutorial created by [Irene Wallis](https://www.cubicearth.nz/)\n"
   ]
  },
  {
   "cell_type": "markdown",
   "metadata": {},
   "source": []
  }
 ],
 "metadata": {
  "interpreter": {
   "hash": "c582afbba782c21e9b53adc4389234bd88ba080393bd7d8b012d9080c2a82aeb"
  },
  "kernelspec": {
   "display_name": "Python 3 (ipykernel)",
   "language": "python",
   "name": "python3"
  },
  "language_info": {
   "codemirror_mode": {
    "name": "ipython",
    "version": 3
   },
   "file_extension": ".py",
   "mimetype": "text/x-python",
   "name": "python",
   "nbconvert_exporter": "python",
   "pygments_lexer": "ipython3",
   "version": "3.7.9"
  }
 },
 "nbformat": 4,
 "nbformat_minor": 4
}
