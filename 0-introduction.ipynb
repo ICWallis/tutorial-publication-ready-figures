{
 "cells": [
  {
   "cell_type": "markdown",
   "metadata": {},
   "source": [
    "--- \n",
    "# Introduction to Matplotlib"
   ]
  },
  {
   "cell_type": "markdown",
   "metadata": {},
   "source": [
    "---\n",
    "# 1. Matplotlib in the Wild\n",
    "\n",
    "A powerful plotting library that can generate a [wide range of plot types](https://matplotlib.org/stable/tutorials/introductory/sample_plots.html#sphx-glr-tutorials-introductory-sample-plots-py). \n",
    "\n",
    "In this tutorial, we focus only on x/y plots. \n",
    "\n",
    "## 1.1 Import matplotlib"
   ]
  },
  {
   "cell_type": "code",
   "execution_count": null,
   "metadata": {},
   "outputs": [],
   "source": [
    "import matplotlib.pyplot as plt"
   ]
  },
  {
   "cell_type": "markdown",
   "metadata": {},
   "source": [
    "## 1.2 Matplotlib Jargon\n",
    "\n",
    "The _figure_ is the window or exportable area that can contain one or more plot.\n",
    "\n",
    "The _axes_ is the plot itself.\n",
    "\n",
    "Our general process: \n",
    "1. Make a _figure_ with one or more _axis_ in it \n",
    "2. Populate the _axis_ with our data\n",
    "3. Format the _axis_ and the _figure_\n",
    "4. Export our _figure_ for use elsewhere"
   ]
  },
  {
   "cell_type": "markdown",
   "metadata": {},
   "source": [
    "---\n",
    "# 2. A Pick and Mix of Syntax\n",
    "\n",
    "There are many ways to make a matplotlib plot. \n",
    "\n",
    "We will start with a live demo of two common approaches and then discuss other variations.\n",
    "\n",
    "## 2.1 Demo: Pyplot-style plot\n",
    "\n",
    "- Best for a quick look at your data or for a figure with just one plot\n",
    "- Generates the figure and axis at the same time \n",
    "- Not recommended for functions or scripts that will be reused as part of a larger project"
   ]
  },
  {
   "cell_type": "code",
   "execution_count": null,
   "metadata": {},
   "outputs": [],
   "source": [
    "x = [3,5,9]\n",
    "y = [10,20,30]\n",
    "\n"
   ]
  },
  {
   "cell_type": "markdown",
   "metadata": {},
   "source": [
    "## 2.2 Demo: Object oriented type\n",
    "\n",
    "- Best for figure layouts with one or more plots that are the same size\n",
    "- Figure and axis are specified explicitly\n",
    "- Suitable for functions or scripts that will be reused in a larger project"
   ]
  },
  {
   "cell_type": "code",
   "execution_count": null,
   "metadata": {},
   "outputs": [],
   "source": [
    "# one plot (axis) in one figure\n",
    "\n",
    "x = [3,5,9]\n",
    "y = [10,20,30]\n",
    "\n",
    "\n"
   ]
  },
  {
   "cell_type": "code",
   "execution_count": null,
   "metadata": {},
   "outputs": [],
   "source": [
    "# two plots (axis) in one figure\n",
    "\n",
    "x = [3,5,9]\n",
    "y = [10,20,30]\n",
    "\n",
    "\n"
   ]
  },
  {
   "cell_type": "code",
   "execution_count": null,
   "metadata": {},
   "outputs": [],
   "source": [
    "# Four plots (axis) in one figure\n",
    "\n",
    "x = [3,5,9]\n",
    "y = [10,20,30]\n",
    "\n",
    "\n"
   ]
  },
  {
   "cell_type": "markdown",
   "metadata": {},
   "source": [
    "## 2.3 Two Other Object Oriented Approches \n",
    "\n",
    "### (1) Define axis locations as you plot into them\n",
    "\n",
    "- Similar syntax to the example above, but we use a general term (axs) in the first line and then specify the row, column location of a plot as we use it\n",
    "- Positive = you don't have to keep track of which axis is in which location\n",
    "- Negative = more code on each line\n",
    "- Best for complex figure layouts with multiple plots of the same size\n",
    "- Figure and axis are specified explicitly\n",
    "- Suitable for functions or scripts that will be reused in a larger project"
   ]
  },
  {
   "cell_type": "code",
   "execution_count": null,
   "metadata": {},
   "outputs": [],
   "source": [
    "fig, axs = plt.subplots(2, 2, figsize=(6, 6))\n",
    "\n",
    "# [row, column]\n",
    "axs[0,0].plot(x,y)\n",
    "axs[1,0].scatter(x,y)\n",
    "axs[0,1].plot()\n",
    "axs[1,1].plot()\n",
    "\n",
    "fig.tight_layout()"
   ]
  },
  {
   "cell_type": "markdown",
   "metadata": {},
   "source": [
    "### (2) GridSpec for different sized plots (axis)\n",
    "\n",
    "- Enables you to define plot (axis) with various sizes by defining the width or height of columns and rows\n",
    "- Best for complex figure layouts with multiple plots of various sizes\n",
    "- Figure and axis are specified explicitly\n",
    "- Suitable for functions or scripts that will be reused in a larger project\n",
    "\n",
    "For more on GridSpec: https://matplotlib.org/stable/gallery/userdemo/demo_gridspec03.html"
   ]
  },
  {
   "cell_type": "code",
   "execution_count": null,
   "metadata": {},
   "outputs": [],
   "source": [
    "from matplotlib.gridspec import GridSpec\n",
    "\n",
    "x = [3,5,9]\n",
    "y = [10,20,30]\n",
    "\n",
    "# make the figure\n",
    "fig = plt.figure(figsize=(6,6))\n",
    "\n",
    "# define the gridspec\n",
    "spec = GridSpec(\n",
    "    ncols=2, \n",
    "    nrows=2, \n",
    "    width_ratios=[1,2], \n",
    "    height_ratios=[3,1]\n",
    ")\n",
    "\n",
    "# relate the gridspec to axis\n",
    "ax0 = fig.add_subplot(spec[0])\n",
    "ax1 = fig.add_subplot(spec[1])\n",
    "ax2 = fig.add_subplot(spec[2])\n",
    "ax3 = fig.add_subplot(spec[3])\n",
    "\n",
    "# make your plots\n",
    "ax0.plot(x,y)\n",
    "ax1.scatter(x,y)\n",
    "\n",
    "# fix the layout\n",
    "fig.tight_layout()\n"
   ]
  },
  {
   "cell_type": "markdown",
   "metadata": {},
   "source": [
    "---\n",
    "# 3. Matplotlib and Pandas\n",
    "\n",
    "Matplotlib works well with Pandas\n",
    "\n",
    "## 3.1 Import Pandas"
   ]
  },
  {
   "cell_type": "code",
   "execution_count": null,
   "metadata": {},
   "outputs": [],
   "source": [
    "import pandas as pd"
   ]
  },
  {
   "cell_type": "markdown",
   "metadata": {},
   "source": [
    "## 3.2 Import Data as a Pandas Dataframe"
   ]
  },
  {
   "cell_type": "code",
   "execution_count": null,
   "metadata": {},
   "outputs": [],
   "source": [
    "# import data from a csv file\n",
    "p3 = pd.read_csv('Data/P3.csv')\n",
    "\n",
    "# import data from an Excel file\n",
    "tvz = pd.read_excel('Data/TVZ.xlsx', sheet_name='Data')"
   ]
  },
  {
   "cell_type": "markdown",
   "metadata": {},
   "source": [
    "## 3.3 Look at the Dataframes"
   ]
  },
  {
   "cell_type": "code",
   "execution_count": null,
   "metadata": {},
   "outputs": [],
   "source": [
    "# columns, info, describe, head, tail\n",
    "\n",
    "print(tvz.columns)\n",
    "print(p3.columns)"
   ]
  },
  {
   "cell_type": "markdown",
   "metadata": {},
   "source": [
    "## 3.4 Plot from a Dataframe\n",
    "\n",
    "Data can be called into a matplotlib plot directly from a Pandas dataframe"
   ]
  },
  {
   "cell_type": "code",
   "execution_count": null,
   "metadata": {},
   "outputs": [],
   "source": [
    "fig, ax = plt.subplots(1,1,figsize=(6,3))\n",
    "\n",
    "ax.scatter(\n",
    "    tvz.EffectivePorosity_VolPercent, # x axis data\n",
    "    tvz.SampleDepth_mMD, # y axis data\n",
    ")\n",
    "\n",
    "ax.scatter(\n",
    "    p3['Value effective porosity (%)'], # syntax when there is a space in column name\n",
    "    p3.MaxDepth_mTVD, # syntax when there is not a space in the column name\n",
    ");\n"
   ]
  },
  {
   "cell_type": "markdown",
   "metadata": {},
   "source": [
    "Strictly speaking, we should convert the columns of the Pandas Dataframe into an np.array by using .values (demo below). \n",
    "\n",
    "However, I'm yet to encounter an issue plotting a column of data from a Pandas Dataframe without doing this."
   ]
  },
  {
   "cell_type": "code",
   "execution_count": null,
   "metadata": {},
   "outputs": [],
   "source": [
    "# Same as above but with columns converted to np.array\n",
    "\n",
    "fig, ax = plt.subplots(1,1,figsize=(6,3))\n",
    "\n",
    "ax.scatter(\n",
    "    tvz.EffectivePorosity_VolPercent.values, \n",
    "    tvz.SampleDepth_mMD.values,\n",
    ")\n",
    "\n",
    "ax.scatter(\n",
    "    p3['Value effective porosity (%)'].values, \n",
    "    p3.MaxDepth_mTVD.values,\n",
    ");"
   ]
  },
  {
   "cell_type": "markdown",
   "metadata": {},
   "source": [
    "---\n",
    "# 4. Save Your Figure"
   ]
  },
  {
   "cell_type": "code",
   "execution_count": null,
   "metadata": {},
   "outputs": [],
   "source": [
    "fig, ax = plt.subplots(1,1)\n",
    "\n",
    "ax.scatter([5,2],[10,15])\n",
    "\n",
    "\n",
    "\n",
    "# Can save a figure as...\n",
    "# Raster formats: png (defult format) or jpg \n",
    "# Vector formats: pdf or svg \n",
    "\n",
    "# other kwargs to try...\n",
    "# dpi=300 (300 is good for general use, 500-600 is high resolution)\n",
    "# facecolor='w' (sets the colour of the area outside the plot)\n",
    "# transparent=False (sets the plot area to transparent)\n",
    "\n",
    "# If figure is cut-off by export, use the following kwarg to fit the export to the plot\n",
    "# bbox_inches='Tight' \n",
    "# If using the above kwarg, you can add padding around the tight frame using the following kwarg\n",
    "# pad_inches=0.1\n",
    "\n",
    "# For more information on saving figures:\n",
    "# https://matplotlib.org/stable/api/_as_gen/matplotlib.pyplot.savefig.html\n"
   ]
  },
  {
   "cell_type": "markdown",
   "metadata": {},
   "source": [
    "---\n",
    "# 5. Handy Hints\n",
    "\n",
    "If you are making and then saving dozens of figures inside a for loop, then it is useful to close each figure after saving that figure so you don't run out of memory. Use \"plt.close()\" to do this. \n",
    "\n",
    "You need to use \"plt.show()\" if you want to see your figure when working outside of a jupyter notebook. However, if \"plt.show()\" is used before saving the figure, then the figure saved will be empty. Place \"plt.show()\" after \"plt.savefig('YourFigure.png')\""
   ]
  },
  {
   "cell_type": "markdown",
   "metadata": {},
   "source": [
    "---\n",
    "Tutorial created by [Irene Wallis](https://www.cubicearth.nz/)\n"
   ]
  },
  {
   "cell_type": "code",
   "execution_count": null,
   "metadata": {},
   "outputs": [],
   "source": []
  }
 ],
 "metadata": {
  "interpreter": {
   "hash": "c582afbba782c21e9b53adc4389234bd88ba080393bd7d8b012d9080c2a82aeb"
  },
  "kernelspec": {
   "display_name": "Python 3 (ipykernel)",
   "language": "python",
   "name": "python3"
  },
  "language_info": {
   "codemirror_mode": {
    "name": "ipython",
    "version": 3
   },
   "file_extension": ".py",
   "mimetype": "text/x-python",
   "name": "python",
   "nbconvert_exporter": "python",
   "pygments_lexer": "ipython3",
   "version": "3.7.9"
  }
 },
 "nbformat": 4,
 "nbformat_minor": 4
}
