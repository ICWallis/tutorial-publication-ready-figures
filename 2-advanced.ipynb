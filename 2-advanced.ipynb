{
 "cells": [
  {
   "cell_type": "markdown",
   "metadata": {},
   "source": [
    "# Advanced Plotting Methods\n",
    "\n",
    "- Introduce techniques for adding an extra data dimension to a plot with colour and symbols\n",
    "- Highlighting and layering data on a plot\n",
    "- Post-production editing"
   ]
  },
  {
   "cell_type": "markdown",
   "metadata": {},
   "source": [
    "---\n",
    "# 1. Import Packages"
   ]
  },
  {
   "cell_type": "code",
   "execution_count": null,
   "metadata": {},
   "outputs": [],
   "source": [
    "import matplotlib.pyplot as plt\n",
    "import pandas as pd"
   ]
  },
  {
   "cell_type": "markdown",
   "metadata": {},
   "source": [
    "---\n",
    "# 2. Import Data Using Pandas"
   ]
  },
  {
   "cell_type": "code",
   "execution_count": null,
   "metadata": {},
   "outputs": [],
   "source": [
    "# import excel data as a Pandas dataframe\n",
    "tvz = pd.read_excel('Data/TVZ.xlsx', sheet_name='Data')\n",
    "tvz.head(2)"
   ]
  },
  {
   "cell_type": "markdown",
   "metadata": {},
   "source": [
    "---\n",
    "# 3. Adding Another Dimension with Colour Scales\n",
    "\n",
    "We can add a third dimension to our x/y plots by applying a colour scale (colour map)."
   ]
  },
  {
   "cell_type": "code",
   "execution_count": null,
   "metadata": {},
   "outputs": [],
   "source": [
    "# assign Pandas dataframe columns\n",
    "x = tvz.EffectivePorosity_VolPercent\n",
    "y = tvz.SampleDepth_mMD\n",
    "z = tvz.Vp_mps\n",
    "\n",
    "fig, ax = plt.subplots(1,1,figsize=(8,3))\n",
    "\n",
    "ax.scatter(\n",
    "    x,\n",
    "    y,\n",
    "    # what do you think goes here to colour data by z?\n",
    ")\n",
    "\n",
    "# scatter plot kwargs\n",
    "# s=20 # size, float\n",
    "# c='k' # named colour, hex code, or numeric values (see advanced notebook)\n",
    "# edgecolors='k'\n",
    "# linewidths=0.5\n",
    "# cmap='colour-map-name', append _r to the name to reverse the colour map\n",
    "\n",
    "# Perceptually uniform colour maps\n",
    "# these are reccomended\n",
    "# viridis\n",
    "# plasma\n",
    "# inferno\n",
    "# magma\n",
    "# cividis\n",
    "\n",
    "# Sequential colourmaps\n",
    "# Greys\n",
    "# Blues\n",
    "# GnBu\n",
    "# OrRd\n",
    "\n",
    "# Other colour maps\n",
    "# these are not reccomended\n",
    "# hsv\n",
    "# gist_rainbow\n",
    "# rainbow\n",
    "\n",
    "# plot the colour bar\n",
    "#fig.colorbar() # this will not work until we adjust the code\n",
    "\n",
    "# colour bar kwargs\n",
    "# shrink=0.5 # make the bar shorter\n",
    "# fraction=0.15 # amount of axis that the bar will occupy\n",
    "# aspect=10 # make the bar fatter using smaller numbers\n",
    "\n",
    "ax.set_ylim(3500,0)\n",
    "ax.set_ylabel('Depth [m-VD]')\n",
    "ax.set_xlabel('Porosity [v/v]');\n"
   ]
  },
  {
   "cell_type": "markdown",
   "metadata": {},
   "source": [
    "---\n",
    "# 4. Colour Scales: The Puzzling and the Perceptually Uniform\n",
    "\n",
    "There is a dizzying array of colour scales to choose from and it's easy to get carried away. We must choose wisely or we risk distorting how our data are perceived. \n",
    "\n",
    "Refer to [this paper](https://www.nature.com/articles/s41467-020-19160-7) to get a feel for how data are distorted by colour. \n",
    "\n",
    "Explore how perception is distorted by colour scale selecting using [this application](https://github.com/mycarta/Colormap-distorsions-Panel-app#how-to-use-the-app) (Hint: click on 'launch app' and wait for it to load).  \n",
    "\n",
    "Matplotlib provides [a useful resource](https://matplotlib.org/stable/tutorials/colors/colormaps.html) that helps with colour scale selection. \n",
    "\n",
    "**Rule of thumb: Avoid rainbow and prefer perceptually uniform.**"
   ]
  },
  {
   "cell_type": "code",
   "execution_count": null,
   "metadata": {},
   "outputs": [],
   "source": [
    "from IPython import display\n",
    "display.Image(\"https://imgs.xkcd.com/comics/painbow_award.png\")"
   ]
  },
  {
   "cell_type": "markdown",
   "metadata": {},
   "source": [
    "---\n",
    "# 5. Advanced Scatter Plots with Seaborn\n",
    "\n",
    "Seaborn is a powerful plotting tool that works well with Pandas.\n",
    "\n",
    "It's ideal for generating static plots for reports, presentations and publication. \n",
    "\n",
    "[Seaborn example gallery](https://seaborn.pydata.org/examples/index.html)"
   ]
  },
  {
   "cell_type": "code",
   "execution_count": null,
   "metadata": {},
   "outputs": [],
   "source": [
    "import seaborn as sns\n",
    "\n",
    "fig, ax = plt.subplots(1,1,figsize=(8,3))\n",
    "\n",
    "sns.scatterplot(\n",
    "    x='EffectivePorosity_VolPercent', # Pandas column name for x data\n",
    "    y='SampleDepth_mMD', # Pandas column name for y data\n",
    "    data=tvz, # Pandas dataframe name\n",
    "    ax=ax, # name of the axis that the seaborn plot goes in\n",
    "    s=90, # marker size\n",
    "    hue='RockCode', # marker colour\n",
    "    style='AlterationAssemblage', # marker style\n",
    "    legend=False, # turns legend on and off\n",
    ")\n",
    "\n",
    "ax.set_xlim(0,60)\n",
    "ax.set_ylim(3500,0)\n",
    "\n",
    "ax.set_xlabel('Porosity [v/v]')\n",
    "ax.set_ylabel('Depth [m-VD]')\n",
    "\n",
    "# Place legend right of the axis\n",
    "#ax.legend(\n",
    "#    loc='center left', \n",
    "#    bbox_to_anchor=(1.05, 0.45), \n",
    "#    ncol=1,\n",
    "#);\n"
   ]
  },
  {
   "cell_type": "markdown",
   "metadata": {},
   "source": [
    "---\n",
    "# 6. Plot Element Layering\n",
    "\n",
    "Sometimes you want to place one set of data on top of another in a plot, or all of the data on top of the grid. We use zorder to do this. \n",
    "\n",
    "There is some issue with zorder and grids, so a bit of trial and error is typically required."
   ]
  },
  {
   "cell_type": "code",
   "execution_count": null,
   "metadata": {},
   "outputs": [],
   "source": [
    "x = [3,5]\n",
    "y = [10,12]\n",
    "\n",
    "fig, ax = plt.subplots(1,1,figsize=(5,5))\n",
    "\n",
    "ax.plot(\n",
    "    x,\n",
    "    y,\n",
    "    linewidth=5,\n",
    "    color='r',\n",
    ")\n",
    "\n",
    "ax.scatter(\n",
    "    x,\n",
    "    y,\n",
    "    marker='o',\n",
    "    s=400,\n",
    "    # add kwarg here\n",
    ")\n",
    "\n",
    "ax.grid(linewidth=3)"
   ]
  },
  {
   "cell_type": "markdown",
   "metadata": {},
   "source": [
    "---\n",
    "# 7. Highlights and Fills\n",
    "\n",
    "Three methods that can be used to highlight data on a plot.\n",
    "\n",
    "## 7.1 Fill Between Lines\n",
    "\n",
    "Fill between lines in either the [x direction](https://matplotlib.org/stable/api/_as_gen/matplotlib.pyplot.fill_betweenx.html#matplotlib.pyplot.fill_betweenx) or [y direction](https://matplotlib.org/stable/api/_as_gen/matplotlib.pyplot.fill_between.html)"
   ]
  },
  {
   "cell_type": "code",
   "execution_count": null,
   "metadata": {},
   "outputs": [],
   "source": [
    "fig, (ax0, ax1) = plt.subplots(1,2,figsize=(6,3), sharey=True)\n",
    "plt.tight_layout()\n",
    "\n",
    "# fill between lines in the y axis direction\n",
    "\n",
    "x = [2, 3, 4, 5, 6]\n",
    "y1 = [22, 30, 20,  33, 40]\n",
    "y2 = [30, 35, 25, 20, 30]\n",
    "\n",
    "ax0.plot(x, y1)\n",
    "ax0.plot(x, y2)\n",
    "#ax0.fill_between(x, y1, y2, alpha=0.2)\n",
    "\n",
    "# Fill between lines in the x axis direction\n",
    "\n",
    "y = [20, 25, 30, 35, 40]\n",
    "x1 = [2, 2, 3, 6, 4]\n",
    "x2 = [5, 4, 4, 5, 5]\n",
    "\n",
    "ax1.plot(x1, y)\n",
    "ax1.plot(x2, y)\n",
    "#ax1.fill_betweenx(y, x1, x2, alpha=0.2)\n"
   ]
  },
  {
   "cell_type": "markdown",
   "metadata": {},
   "source": [
    "## 7.2 Horizontal or Vertical Lines\n",
    "\n",
    "Add [horizontal](https://matplotlib.org/stable/api/_as_gen/matplotlib.axes.Axes.hlines.html?highlight=hlines#matplotlib.axes.Axes.hlines) or [vertical](https://matplotlib.org/stable/api/_as_gen/matplotlib.pyplot.vlines.html) lines\n"
   ]
  },
  {
   "cell_type": "code",
   "execution_count": null,
   "metadata": {},
   "outputs": [],
   "source": [
    "fig, ax = plt.subplots(1,1,figsize=(5,3))\n",
    "plt.tight_layout()\n",
    "\n",
    "x = [2, 3, 4, 5, 6]\n",
    "y = [25, 30, 35, 30, 40]\n",
    "\n",
    "ax.scatter(x, y)\n",
    "\n",
    "# add a horizontal line\n",
    "ax.hlines(\n",
    "    30, # y axis location\n",
    "    2,  # start of line on x axis\n",
    "    6,  # end of line on x axis\n",
    ")\n",
    "\n",
    "# add a vertical line\n",
    "ax.vlines(\n",
    "    3,  # x axis location\n",
    "    25, # start of line on y axis\n",
    "    35, # end of line on y axis\n",
    ");\n",
    "\n",
    "# kwargs to try\n",
    "# color = '' # named colour or hex value\n",
    "# linewidth = 0.5 # float\n",
    "# linestyle = '' # '-'  '--'  '-.'  ':'"
   ]
  },
  {
   "cell_type": "markdown",
   "metadata": {},
   "source": [
    "## 7.3 Coloured or Hashed Box\n",
    "\n",
    "Shade a zone on the plot that spans either the [x axis]() or [y axis](https://matplotlib.org/stable/api/_as_gen/matplotlib.pyplot.axvspan.html) direction"
   ]
  },
  {
   "cell_type": "code",
   "execution_count": null,
   "metadata": {},
   "outputs": [],
   "source": [
    "fig, ax = plt.subplots(1,1,figsize=(5,3))\n",
    "plt.tight_layout()\n",
    "\n",
    "x = [2, 3, 4, 5, 6]\n",
    "y = [25, 30, 35, 30, 40]\n",
    "\n",
    "ax.scatter(x, y)\n",
    "\n",
    "# span x axis\n",
    "'''\n",
    "ax.axvspan(\n",
    "    3, # min on x axis\n",
    "    4, # max on x axis\n",
    "    #ymin=0.3, # bottom of box, propotion from 0-1\n",
    "    #ymax=0.9, # top of box, propotion from 0-1\n",
    "    #alpha=0.2,\n",
    ")\n",
    "'''\n",
    "# span y axis\n",
    "'''\n",
    "ax.axhspan(\n",
    "    35,\n",
    "    37.5,\n",
    "    alpha=0.2,\n",
    "    # add kwarg xmin and xmax\n",
    ")\n",
    "'''\n",
    ";\n",
    "# other kwargs to try\n",
    "# color = '' # named colour or hex value\n",
    "# hatch = '' # '/'  '\\'  '|'  '-'  '+'  'x'  'o'  'O'  '.'  '*'\n",
    "# edgecolor = '' # named colour or hex value\n",
    "# facecolor = '' # named colour or hex value"
   ]
  },
  {
   "cell_type": "markdown",
   "metadata": {},
   "source": [
    "---\n",
    "# 8. Where to From Here?\n",
    "\n",
    "Illustrator or other graphics package for finishing demo.\n",
    "\n",
    "\n",
    "**Happy plotting!**"
   ]
  },
  {
   "cell_type": "markdown",
   "metadata": {},
   "source": [
    "---\n",
    "Tutorial created by [Irene Wallis](https://www.cubicearth.nz/)\n"
   ]
  },
  {
   "cell_type": "markdown",
   "metadata": {},
   "source": []
  }
 ],
 "metadata": {
  "interpreter": {
   "hash": "c582afbba782c21e9b53adc4389234bd88ba080393bd7d8b012d9080c2a82aeb"
  },
  "kernelspec": {
   "display_name": "Python 3 (ipykernel)",
   "language": "python",
   "name": "python3"
  },
  "language_info": {
   "codemirror_mode": {
    "name": "ipython",
    "version": 3
   },
   "file_extension": ".py",
   "mimetype": "text/x-python",
   "name": "python",
   "nbconvert_exporter": "python",
   "pygments_lexer": "ipython3",
   "version": "3.7.9"
  }
 },
 "nbformat": 4,
 "nbformat_minor": 4
}
